{
  "nbformat": 4,
  "nbformat_minor": 0,
  "metadata": {
    "colab": {
      "provenance": [],
      "authorship_tag": "ABX9TyPAgmQGZPOqSK6j7+sT/BDQ",
      "include_colab_link": true
    },
    "kernelspec": {
      "name": "python3",
      "display_name": "Python 3"
    },
    "language_info": {
      "name": "python"
    }
  },
  "cells": [
    {
      "cell_type": "markdown",
      "metadata": {
        "id": "view-in-github",
        "colab_type": "text"
      },
      "source": [
        "<a href=\"https://colab.research.google.com/github/21PA1A6120/codespaces-blank/blob/main/Untitled1.ipynb\" target=\"_parent\"><img src=\"https://colab.research.google.com/assets/colab-badge.svg\" alt=\"Open In Colab\"/></a>"
      ]
    },
    {
      "cell_type": "code",
      "execution_count": 11,
      "metadata": {
        "colab": {
          "base_uri": "https://localhost:8080/"
        },
        "id": "pCvj9V9Eam4B",
        "outputId": "75739576-f33f-44ac-981f-a9d2b9c48947"
      },
      "outputs": [
        {
          "output_type": "stream",
          "name": "stdout",
          "text": [
            "[10 15 20 25]\n",
            "[1 2 3]\n",
            "<class 'numpy.ndarray'>\n",
            "1\n"
          ]
        }
      ],
      "source": [
        "import numpy as np\n",
        "a=np.array([1,2,3])\n",
        "b=np.arange(10,30,5)\n",
        "print(b)\n",
        "print(a)\n",
        "print(type(a))\n",
        "print(a[0])"
      ]
    },
    {
      "cell_type": "code",
      "source": [
        "import numpy as np\n",
        "a=np.array([1,2,3])\n",
        "b=np.array([1,2,3])\n",
        "print(a+b)\n",
        "print(a-b)\n",
        "print(a*b)\n",
        "print(a/b)\n",
        "print(a**b)\n",
        "print(10*np.sin(a))\n",
        "a[0] =a[0]+10\n",
        "print(a)\n",
        "print(np.cross(a,b))\n",
        "print(np.dot(a,b))\n",
        "print(a[1:4])\n",
        "print(a[-1])\n",
        "print(a[-5:-2])"
      ],
      "metadata": {
        "colab": {
          "base_uri": "https://localhost:8080/"
        },
        "id": "wnqxKwAdbIQq",
        "outputId": "dcbbe0f0-158a-48f8-98f4-25bbe65e031e"
      },
      "execution_count": 33,
      "outputs": [
        {
          "output_type": "stream",
          "name": "stdout",
          "text": [
            "[2 4 6]\n",
            "[0 0 0]\n",
            "[1 4 9]\n",
            "[1. 1. 1.]\n",
            "[ 1  4 27]\n",
            "[8.41470985 9.09297427 1.41120008]\n",
            "[11  2  3]\n",
            "[  0 -30  20]\n",
            "24\n",
            "[2 3]\n",
            "3\n",
            "[11]\n"
          ]
        }
      ]
    },
    {
      "cell_type": "code",
      "source": [
        "import numpy as np\n",
        "c=np.append(a,[4,5,6])\n",
        "c"
      ],
      "metadata": {
        "colab": {
          "base_uri": "https://localhost:8080/"
        },
        "id": "CIGriltYbkNy",
        "outputId": "3e05e2bc-bd0c-41bc-b0fe-1304d1baaaa8"
      },
      "execution_count": 23,
      "outputs": [
        {
          "output_type": "execute_result",
          "data": {
            "text/plain": [
              "array([11,  2,  3,  4,  5,  6])"
            ]
          },
          "metadata": {},
          "execution_count": 23
        }
      ]
    },
    {
      "cell_type": "code",
      "source": [
        "print('the elements in x before delecting',c)\n",
        "newarray=np.delete(c,4)\n",
        "print(newarray)"
      ],
      "metadata": {
        "colab": {
          "base_uri": "https://localhost:8080/"
        },
        "id": "m7asnfjIgbFd",
        "outputId": "7061ea0c-3a3a-442f-8fde-8f7378fd6b61"
      },
      "execution_count": 24,
      "outputs": [
        {
          "output_type": "stream",
          "name": "stdout",
          "text": [
            "the elements in x before delecting [11  2  3  4  5  6]\n",
            "[11  2  3  4  6]\n"
          ]
        }
      ]
    },
    {
      "cell_type": "markdown",
      "source": [
        "while delecting u need assign it to a variable\n",
        "delete(array,index)"
      ],
      "metadata": {
        "id": "E6vmtLHehAs8"
      }
    },
    {
      "cell_type": "code",
      "source": [
        "b=np.array([3,5,7,4,8])\n",
        "b[b<=4]= -1\n",
        "print(b)"
      ],
      "metadata": {
        "colab": {
          "base_uri": "https://localhost:8080/"
        },
        "id": "f8n6-DBChP-I",
        "outputId": "32bceb5b-eed6-4336-da6c-51a8819127e5"
      },
      "execution_count": 25,
      "outputs": [
        {
          "output_type": "stream",
          "name": "stdout",
          "text": [
            "[-1  5  7 -1  8]\n"
          ]
        }
      ]
    },
    {
      "cell_type": "code",
      "source": [
        "d=np.arange(12).reshape(4,3)**2\n",
        "print(d)\n",
        "print(d[1:3])\n",
        "print(d[1:3,1:3])\n"
      ],
      "metadata": {
        "colab": {
          "base_uri": "https://localhost:8080/"
        },
        "id": "MegfZ6gmhmZ3",
        "outputId": "10c54ba9-1e66-46bf-d462-cf2e1016f449"
      },
      "execution_count": 43,
      "outputs": [
        {
          "output_type": "stream",
          "name": "stdout",
          "text": [
            "[[  0   1   4]\n",
            " [  9  16  25]\n",
            " [ 36  49  64]\n",
            " [ 81 100 121]]\n",
            "[[ 9 16 25]\n",
            " [36 49 64]]\n",
            "[[16 25]\n",
            " [49 64]]\n"
          ]
        }
      ]
    },
    {
      "cell_type": "code",
      "source": [
        "for i in d:\n",
        "  print(i/2)"
      ],
      "metadata": {
        "colab": {
          "base_uri": "https://localhost:8080/"
        },
        "id": "Z-4pQO85nqAs",
        "outputId": "b7e1ae63-7a8a-46f0-d4b2-493afd0cd30e"
      },
      "execution_count": 46,
      "outputs": [
        {
          "output_type": "stream",
          "name": "stdout",
          "text": [
            "[0.  0.5 2. ]\n",
            "[ 4.5  8.  12.5]\n",
            "[18.  24.5 32. ]\n",
            "[40.5 50.  60.5]\n"
          ]
        }
      ]
    },
    {
      "cell_type": "code",
      "source": [
        "a=np.floor(10*np.random.random((3,4)))\n",
        "print(a)\n",
        "print(a.reshape(2,6))\n",
        "print(a.ravel())\n",
        "print(a.T)"
      ],
      "metadata": {
        "colab": {
          "base_uri": "https://localhost:8080/"
        },
        "id": "MhzdXzf9n9qT",
        "outputId": "cb561389-fcc0-46b4-dae1-75fc2f801acc"
      },
      "execution_count": 58,
      "outputs": [
        {
          "output_type": "stream",
          "name": "stdout",
          "text": [
            "[[6. 9. 7. 2.]\n",
            " [3. 5. 9. 5.]\n",
            " [3. 7. 1. 1.]]\n",
            "[[6. 9. 7. 2. 3. 5.]\n",
            " [9. 5. 3. 7. 1. 1.]]\n",
            "[6. 9. 7. 2. 3. 5. 9. 5. 3. 7. 1. 1.]\n",
            "[[6. 3. 3.]\n",
            " [9. 5. 7.]\n",
            " [7. 9. 1.]\n",
            " [2. 5. 1.]]\n"
          ]
        }
      ]
    },
    {
      "cell_type": "code",
      "source": [],
      "metadata": {
        "id": "Qz0tZWfHpWI8"
      },
      "execution_count": null,
      "outputs": []
    }
  ]
}